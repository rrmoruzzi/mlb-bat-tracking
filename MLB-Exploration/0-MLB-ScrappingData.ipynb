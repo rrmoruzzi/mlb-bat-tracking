{
 "cells": [
  {
   "cell_type": "markdown",
   "id": "be77fcf7",
   "metadata": {},
   "source": [
    "## Data scrapping Baseball savant data\n",
    "\n",
    "Baseball savant provides data for many aspects of baseball, including batting, pitching, fielding. In this notebook we are scrapping the data from the website, though a user can download a .csv file from the website. One advantage of scrapping the data is that we can get every column of data into a file, while on the website, a user can give selections of data they want. I note below where this code can be adapted to include certain years and selections."
   ]
  },
  {
   "cell_type": "code",
   "execution_count": 16,
   "id": "00baa93c",
   "metadata": {},
   "outputs": [],
   "source": [
    "import pandas as pd\n",
    "import numpy as np\n",
    "from bs4 import BeautifulSoup\n",
    "import matplotlib.pyplot as plot\n",
    "from time import sleep\n",
    "import json, re\n",
    "\n",
    "import requests\n",
    "\n",
    "## this is to suppress warnings I was getting in this code. \n",
    "import warnings\n",
    "# Suppress FutureWarning messages\n",
    "warnings.simplefilter(action='ignore', category=FutureWarning)"
   ]
  },
  {
   "cell_type": "code",
   "execution_count": 17,
   "id": "371b387f",
   "metadata": {},
   "outputs": [],
   "source": [
    "## append 'years' list with years desired. I include only '2024'\n",
    "## since this is the year the bat tracking data became available. \n",
    "\n",
    "years = ['2024']\n",
    "\n",
    "## go through the list of years, and gather the urls to access\n",
    "## the baseball savant website.\n",
    "for year in years:\n",
    "    savant_url = 'https://baseballsavant.mlb.com/leaderboard/custom?year=2024&type=batter&filter=&min=10&selections=&chart=false&x=&y=&r=no&chartType=beeswarm&sort=1&sortDir=desc'\n",
    "\n",
    "    savant_urls = [savant_url.split('2024')[0] + year + savant_url.split('2024')[1] for year in years] \n",
    "\n",
    "## initialize a data frame to store the players data\n",
    "players_data = pd.DataFrame()\n",
    "\n",
    "## going through the urls accessing the baseball savant website.  \n",
    "for url in savant_urls:\n",
    "    response = requests.get(url= savant_urls[0])\n",
    "    response.status_code\n",
    "    \n",
    "    ## create the soup object, parsing the html code\n",
    "    soup = BeautifulSoup(response.text, 'html.parser')\n",
    "    \n",
    "    ## find all the div tags, with attribute article template\n",
    "    ## since this is where the data is held on baseball savant website\n",
    "    data = soup.find_all('div', attrs={'class':'article-template'})[0]\n",
    "\n",
    "    ## the data is held in a script tag\n",
    "    script = data.find('script')\n",
    "\n",
    "    ## since the data we want is in a variable in the html code as a json object,\n",
    "    ## we need to gather it via searching in script for the right string\n",
    "    \n",
    "    ## \\[(.*)\\] says we want all instances of strings between \\[ and \\]\n",
    "    ## json.loads parses a valid JSON string and converts it into a Python Dictionary.\n",
    "    batting_data = json.loads(re.search(r'\\[(.*)\\]', script.text).group(0))\n",
    "    \n",
    "    ## batting_data is a list of dictionaries, so we append the dataframe for each\n",
    "    ## list item. \n",
    "    for i,batter in enumerate(batting_data):\n",
    "        df = pd.DataFrame(batting_data[i], index = [i])\n",
    "        players_data = pd.concat([players_data, df])\n",
    "    \n",
    "    ## sleep the request in case user wants to get more years from baseball savant. \n",
    "    sleep(2)\n",
    "\n",
    "## exporting the dataframe as a csv\n",
    "players_data.to_csv('updated_batter_data.csv', index = False)"
   ]
  }
 ],
 "metadata": {
  "kernelspec": {
   "display_name": "erdos_may_2024_new",
   "language": "python",
   "name": "erdos_may_2024_new"
  },
  "language_info": {
   "codemirror_mode": {
    "name": "ipython",
    "version": 3
   },
   "file_extension": ".py",
   "mimetype": "text/x-python",
   "name": "python",
   "nbconvert_exporter": "python",
   "pygments_lexer": "ipython3",
   "version": "3.11.9"
  }
 },
 "nbformat": 4,
 "nbformat_minor": 5
}
