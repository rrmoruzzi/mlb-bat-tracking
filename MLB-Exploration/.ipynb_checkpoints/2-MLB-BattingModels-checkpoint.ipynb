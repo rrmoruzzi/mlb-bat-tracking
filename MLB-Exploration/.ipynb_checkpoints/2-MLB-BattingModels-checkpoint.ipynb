{
 "cells": [
  {
   "cell_type": "markdown",
   "id": "c16faf3a",
   "metadata": {},
   "source": [
    "## Building models for batting average\n",
    "\n",
    "From the notebook 1-MLB-predictions-EDA, I noticed that, of the features:\n",
    "- features_new = ['avg_swing_speed', 'fast_swing_rate', 'blasts_contact', 'blasts_swing',\n",
    "       'squared_up_contact', 'squared_up_swing', 'avg_swing_length', 'swords']\n",
    "\n",
    "'blast_swing', 'blast contact', 'squared up', 'squared up swings', 'swords' correlate most with average. I also noticed that blast_swing and blast_contact correlate, similarly sqaured up swings and contact. We will still include all of these in the initial model exploration. \n",
    "\n",
    "Also, of the following quality of at bat features:\n",
    "- features_quality = ['exit_velocity_avg', 'launch_angle_avg', 'sweet_spot_percent', 'barrel',\n",
    "       'barrel_batted_rate', 'solidcontact_percent', 'flareburner_percent',\n",
    "       'poorlyunder_percent', 'poorlytopped_percent', 'poorlyweak_percent',\n",
    "       'hard_hit_percent']\n",
    "\n",
    "'exit velo','sweet spot percentage','barrel','flareburner percentage','hard hit percentage','poorly topped','poorly under','poorly weak' correlate most with average. \n",
    "\n",
    "For which model we will use, we will build models using only new features since I am interested in what features most contribute to batting average, then one using new fatures + quality at bat features to see overall, what features contribute most to batting average. To do this: \n",
    "- Models we will use:\n",
    "    - Linear Regression with new tracking stats, then one with both. Using this method since we do want interpretability of which features are important to batting. \n",
    "    - Find features using PCA, then build Regression model. We can use this just as a predictor of batting average. \n",
    "    - Find a regression model using Huber Regularization since there are some outliers in the data. \n",
    "    - Lasso Regression to see which features are more important.\n",
    "- Compare the previous models. \n"
   ]
  },
  {
   "cell_type": "code",
   "execution_count": 15,
   "id": "e8eb4c88",
   "metadata": {},
   "outputs": [],
   "source": [
    "import pandas as pd\n",
    "import numpy as np\n",
    "\n",
    "from sklearn.model_selection import train_test_split, KFold\n",
    "from sklearn.linear_model import LinearRegression, Lasso, Ridge, Huber\n",
    "from sklearn.decomposition import PCA\n",
    "from sklearn.pipeline import Pipeline\n",
    "from sklearn.metrics import mean_squared_error"
   ]
  },
  {
   "cell_type": "code",
   "execution_count": 8,
   "id": "76491c0c",
   "metadata": {},
   "outputs": [],
   "source": [
    "## This is data from the start of the 2024 season, until 5/14/2024.\n",
    "## it includes those columbs listed below. Need to update this data set. \n",
    "\n",
    "batters = pd.read_csv('../updated_batter_data.csv')\n",
    "\n",
    "## split data\n",
    "batters_train, batters_test = train_test_split(batters,\n",
    "                                              shuffle = True,\n",
    "                                              random_state = 555, \n",
    "                                              test_size = .2)"
   ]
  },
  {
   "cell_type": "code",
   "execution_count": 9,
   "id": "b5427d74",
   "metadata": {},
   "outputs": [],
   "source": [
    "features_new = ['blast_swing', 'blast contact', 'squared up', 'squared up swings', 'swords']\n",
    "features_quality = ['exit velo','sweet spot percentage','barrel','flareburner percentage',\n",
    "                    'hard hit percentage','poorly topped','poorly under','poorly weak']"
   ]
  },
  {
   "cell_type": "code",
   "execution_count": 12,
   "id": "bae25fba",
   "metadata": {},
   "outputs": [],
   "source": [
    "def powerset(s):\n",
    "    power_set = [[]]\n",
    "    for x in s:\n",
    "        power_set += [s0+[x] for s0 in power_set]\n",
    "    return power_set[1:]"
   ]
  },
  {
   "cell_type": "code",
   "execution_count": 13,
   "id": "a8b1713d",
   "metadata": {},
   "outputs": [],
   "source": [
    "all_models = ['baseline']\n",
    "all_models.extend(powerset(features_new))"
   ]
  },
  {
   "cell_type": "code",
   "execution_count": 16,
   "id": "27cb5610",
   "metadata": {},
   "outputs": [],
   "source": [
    "kfold = KFold(5,\n",
    "             shuffle = True,\n",
    "             random_state = 555)\n",
    "\n",
    "mses = np.array((2,2))"
   ]
  },
  {
   "cell_type": "code",
   "execution_count": null,
   "id": "9e148bff",
   "metadata": {},
   "outputs": [],
   "source": []
  }
 ],
 "metadata": {
  "kernelspec": {
   "display_name": "erdos_may_2024_new",
   "language": "python",
   "name": "erdos_may_2024_new"
  },
  "language_info": {
   "codemirror_mode": {
    "name": "ipython",
    "version": 3
   },
   "file_extension": ".py",
   "mimetype": "text/x-python",
   "name": "python",
   "nbconvert_exporter": "python",
   "pygments_lexer": "ipython3",
   "version": "3.11.9"
  }
 },
 "nbformat": 4,
 "nbformat_minor": 5
}
